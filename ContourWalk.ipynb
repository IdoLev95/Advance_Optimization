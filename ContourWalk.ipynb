{
  "nbformat": 4,
  "nbformat_minor": 0,
  "metadata": {
    "colab": {
      "provenance": [],
      "gpuType": "T4"
    },
    "kernelspec": {
      "name": "python3",
      "display_name": "Python 3"
    },
    "language_info": {
      "name": "python"
    },
    "accelerator": "GPU"
  },
  "cells": [
    {
      "cell_type": "code",
      "execution_count": 1,
      "metadata": {
        "id": "JBRuZUkgF310"
      },
      "outputs": [],
      "source": []
    },
    {
      "cell_type": "markdown",
      "source": [
        "Trying to Show that on toy data set we can walk on the contour, reach abot L distance and still keeps the overall perforemence the same"
      ],
      "metadata": {
        "id": "b34fJR4lOA1G"
      }
    },
    {
      "cell_type": "code",
      "source": [
        "import torch\n",
        "from torch.optim.optimizer import Optimizer, required\n",
        "\n",
        "class ContourWalkingOptimizer(Optimizer):\n",
        "    def __init__(self, params, lr=required):\n",
        "        # Initialize the optimizer with the parameters and hyperparameters (e.g., learning rate)\n",
        "        defaults = dict(lr=lr)\n",
        "        super(ContourWalkingOptimizer, self).__init__(params, defaults)\n",
        "        self._is_first_time_calc = True\n",
        "    def step(self, closure=None):\n",
        "        \"\"\"\n",
        "        Performs a single optimization step.\n",
        "\n",
        "        Args:\n",
        "            closure (callable, optional): A closure that reevaluates the model\n",
        "                and returns the loss.\n",
        "        \"\"\"\n",
        "        loss = None\n",
        "        if closure is not None:\n",
        "            loss = closure()\n",
        "\n",
        "        # Loop over parameter groups (usually one group, but could be more)\n",
        "        for group in self.param_groups:\n",
        "            for p in group['params']:\n",
        "                if p.grad is None:\n",
        "                    continue\n",
        "\n",
        "                # Get gradient data for the parameter\n",
        "                grad = p.grad.data\n",
        "                # If this is the first call, initialize a random direction for p\n",
        "                if self._is_first_time_calc:\n",
        "                    d = torch.randn_like(grad)\n",
        "                    self.state.setdefault(p, {})['d'] = d\n",
        "                else:\n",
        "                    d = self.state[p]['d']\n",
        "\n",
        "                ## take here d from self\n",
        "                d_proj = self.__act(grad,d)\n",
        "                ## store here d_proj into self\n",
        "                self.state[p]['d'] = d_proj.clone()\n",
        "                # Custom update: Here, we perform a simple gradient descent step.\n",
        "                # This is equivalent to: p = p - lr * grad\n",
        "                p.data.add_(-group['lr'], d_proj)\n",
        "        if self._is_first_time_calc:\n",
        "            self._is_first_time_calc = False\n",
        "        return loss\n",
        "\n",
        "    def __act(self, grad, d):\n",
        "        grad_norm = torch.norm(grad)\n",
        "        if grad_norm < 1e-8:\n",
        "            return d  # or return d unchanged if gradient is nearly zero\n",
        "\n",
        "        # Compute dot product (flatten the tensors in case they are not 1D)\n",
        "        dot = torch.dot(grad.view(-1), d.view(-1))\n",
        "\n",
        "        # Project d onto the null space of grad\n",
        "        d_proj = d - (dot / (grad_norm ** 2)) * grad\n",
        "        norm_d_proj = torch.norm(d_proj)\n",
        "        if norm_d_proj < 1e-8:\n",
        "            return d  # or return d if the projection is negligible\n",
        "\n",
        "        d_proj = d_proj / norm_d_proj  # normalize the projected direction\n",
        "        return d_proj\n",
        "\n",
        "\n",
        "# Example usage:\n",
        "if __name__ == '__main__':\n",
        "    # A simple linear model for demonstration\n",
        "    model = torch.nn.Linear(10, 1)\n",
        "    # Use Mean Squared Error as our loss function\n",
        "    criterion = torch.nn.MSELoss()\n",
        "\n",
        "    # Instantiate our custom optimizer\n",
        "    L = 0.2\n",
        "    eta = 0.00001  # step size\n",
        "    T = int(L / eta)  # number of steps\n",
        "    optimizer_contour = ContourWalkingOptimizer(model.parameters(), lr=eta)\n",
        "    optimizer_score = torch.optim.SGD(model.parameters(), lr=0.01)\n",
        "\n",
        "    num_samples = 100\n",
        "    # Dummy data: input x and target y\n",
        "    x = torch.randn(num_samples, 10)\n",
        "    y = torch.randn(num_samples, 1)\n",
        "\n",
        "    # Training loop (simplified)\n",
        "    for epoch in range(100):\n",
        "        optimizer_score.zero_grad()  # reset gradients to zero\n",
        "        output = model(x)\n",
        "        loss = criterion(output, y)\n",
        "        loss.backward()  # compute gradients\n",
        "\n",
        "        optimizer_score.step()  # update parameters\n",
        "        print(f\"Epoch {epoch}: loss = {loss.item()}\")\n",
        "    optimized_params = [p.detach().clone() for p in model.parameters()]\n",
        "    for t in range(T):\n",
        "        optimizer_contour.zero_grad()\n",
        "        output = model(x)\n",
        "        loss = criterion(output, y)\n",
        "        loss.backward()\n",
        "        optimizer_contour.step()\n",
        "        if t % 1000 == 0:\n",
        "            print(f\"Step {t}: loss = {loss.item()}\")\n",
        "    curr_params = model.parameters()\n",
        "    for i, (param_score, param_contour) in enumerate(zip(optimized_params, curr_params)):\n",
        "        print(f\"Parameter {i}: score = {torch.norm(param_score - param_contour)}\")\n"
      ],
      "metadata": {
        "colab": {
          "base_uri": "https://localhost:8080/"
        },
        "id": "OrrNgqiUF4ZI",
        "outputId": "0d27ae92-a80e-4392-f22b-180ecb952a9d"
      },
      "execution_count": 2,
      "outputs": [
        {
          "output_type": "stream",
          "name": "stdout",
          "text": [
            "Epoch 0: loss = 1.4185031652450562\n",
            "Epoch 1: loss = 1.3880826234817505\n",
            "Epoch 2: loss = 1.3594682216644287\n",
            "Epoch 3: loss = 1.3325499296188354\n",
            "Epoch 4: loss = 1.3072237968444824\n",
            "Epoch 5: loss = 1.283393383026123\n",
            "Epoch 6: loss = 1.2609676122665405\n",
            "Epoch 7: loss = 1.239861011505127\n",
            "Epoch 8: loss = 1.2199935913085938\n",
            "Epoch 9: loss = 1.201290249824524\n",
            "Epoch 10: loss = 1.1836808919906616\n",
            "Epoch 11: loss = 1.1670989990234375\n",
            "Epoch 12: loss = 1.1514828205108643\n",
            "Epoch 13: loss = 1.1367741823196411\n",
            "Epoch 14: loss = 1.1229183673858643\n",
            "Epoch 15: loss = 1.1098644733428955\n",
            "Epoch 16: loss = 1.0975641012191772\n",
            "Epoch 17: loss = 1.0859721899032593\n",
            "Epoch 18: loss = 1.0750465393066406\n",
            "Epoch 19: loss = 1.0647472143173218\n",
            "Epoch 20: loss = 1.0550369024276733\n",
            "Epoch 21: loss = 1.0458807945251465\n",
            "Epoch 22: loss = 1.037245512008667\n",
            "Epoch 23: loss = 1.029100775718689\n",
            "Epoch 24: loss = 1.0214170217514038\n",
            "Epoch 25: loss = 1.014167308807373\n",
            "Epoch 26: loss = 1.0073258876800537\n",
            "Epoch 27: loss = 1.000868797302246\n",
            "Epoch 28: loss = 0.9947735071182251\n",
            "Epoch 29: loss = 0.9890186190605164\n",
            "Epoch 30: loss = 0.9835843443870544\n",
            "Epoch 31: loss = 0.9784518480300903\n",
            "Epoch 32: loss = 0.9736036062240601\n",
            "Epoch 33: loss = 0.9690229892730713\n",
            "Epoch 34: loss = 0.9646946787834167\n",
            "Epoch 35: loss = 0.9606037735939026\n",
            "Epoch 36: loss = 0.9567366242408752\n",
            "Epoch 37: loss = 0.9530802965164185\n",
            "Epoch 38: loss = 0.9496228098869324\n",
            "Epoch 39: loss = 0.946352481842041\n",
            "Epoch 40: loss = 0.9432588219642639\n",
            "Epoch 41: loss = 0.9403315186500549\n",
            "Epoch 42: loss = 0.93756103515625\n",
            "Epoch 43: loss = 0.9349386692047119\n",
            "Epoch 44: loss = 0.9324558973312378\n",
            "Epoch 45: loss = 0.9301047325134277\n",
            "Epoch 46: loss = 0.9278777837753296\n",
            "Epoch 47: loss = 0.9257681369781494\n",
            "Epoch 48: loss = 0.9237689971923828\n",
            "Epoch 49: loss = 0.9218742847442627\n",
            "Epoch 50: loss = 0.9200782179832458\n",
            "Epoch 51: loss = 0.9183751940727234\n",
            "Epoch 52: loss = 0.9167598485946655\n",
            "Epoch 53: loss = 0.9152277112007141\n",
            "Epoch 54: loss = 0.9137739539146423\n",
            "Epoch 55: loss = 0.9123941659927368\n",
            "Epoch 56: loss = 0.9110844135284424\n",
            "Epoch 57: loss = 0.9098408222198486\n",
            "Epoch 58: loss = 0.9086597561836243\n",
            "Epoch 59: loss = 0.9075377583503723\n",
            "Epoch 60: loss = 0.9064717888832092\n",
            "Epoch 61: loss = 0.9054584503173828\n",
            "Epoch 62: loss = 0.9044952988624573\n",
            "Epoch 63: loss = 0.9035793542861938\n",
            "Epoch 64: loss = 0.902708113193512\n",
            "Epoch 65: loss = 0.9018793702125549\n",
            "Epoch 66: loss = 0.901090681552887\n",
            "Epoch 67: loss = 0.9003399610519409\n",
            "Epoch 68: loss = 0.8996250629425049\n",
            "Epoch 69: loss = 0.8989444971084595\n",
            "Epoch 70: loss = 0.8982959985733032\n",
            "Epoch 71: loss = 0.8976780772209167\n",
            "Epoch 72: loss = 0.8970891833305359\n",
            "Epoch 73: loss = 0.8965277671813965\n",
            "Epoch 74: loss = 0.8959923386573792\n",
            "Epoch 75: loss = 0.8954815864562988\n",
            "Epoch 76: loss = 0.8949941992759705\n",
            "Epoch 77: loss = 0.8945291042327881\n",
            "Epoch 78: loss = 0.8940851092338562\n",
            "Epoch 79: loss = 0.8936610221862793\n",
            "Epoch 80: loss = 0.8932560682296753\n",
            "Epoch 81: loss = 0.8928690552711487\n",
            "Epoch 82: loss = 0.8924992084503174\n",
            "Epoch 83: loss = 0.8921456336975098\n",
            "Epoch 84: loss = 0.8918073773384094\n",
            "Epoch 85: loss = 0.8914840817451477\n",
            "Epoch 86: loss = 0.8911745548248291\n",
            "Epoch 87: loss = 0.890878438949585\n",
            "Epoch 88: loss = 0.8905949592590332\n",
            "Epoch 89: loss = 0.8903234004974365\n",
            "Epoch 90: loss = 0.8900633454322815\n",
            "Epoch 91: loss = 0.8898140788078308\n",
            "Epoch 92: loss = 0.889575183391571\n",
            "Epoch 93: loss = 0.889346182346344\n",
            "Epoch 94: loss = 0.8891266584396362\n",
            "Epoch 95: loss = 0.8889159560203552\n",
            "Epoch 96: loss = 0.8887138962745667\n",
            "Epoch 97: loss = 0.8885198831558228\n",
            "Epoch 98: loss = 0.8883335590362549\n",
            "Epoch 99: loss = 0.8881546854972839\n",
            "Step 0: loss = 0.887982964515686\n"
          ]
        },
        {
          "output_type": "stream",
          "name": "stderr",
          "text": [
            "<ipython-input-2-a6773b203df1>:43: UserWarning: This overload of add_ is deprecated:\n",
            "\tadd_(Number alpha, Tensor other)\n",
            "Consider using one of the following signatures instead:\n",
            "\tadd_(Tensor other, *, Number alpha = 1) (Triggered internally at ../torch/csrc/utils/python_arg_parser.cpp:1642.)\n",
            "  p.data.add_(-group['lr'], d_proj)\n"
          ]
        },
        {
          "output_type": "stream",
          "name": "stdout",
          "text": [
            "Step 1000: loss = 0.8880020976066589\n",
            "Step 2000: loss = 0.8880211114883423\n",
            "Step 3000: loss = 0.8879920244216919\n",
            "Step 4000: loss = 0.8880394697189331\n",
            "Step 5000: loss = 0.8880000114440918\n",
            "Step 6000: loss = 0.8880088925361633\n",
            "Step 7000: loss = 0.8880508542060852\n",
            "Step 8000: loss = 0.8880193829536438\n",
            "Step 9000: loss = 0.8880576491355896\n",
            "Step 10000: loss = 0.888070821762085\n",
            "Step 11000: loss = 0.888102650642395\n",
            "Step 12000: loss = 0.8881121277809143\n",
            "Step 13000: loss = 0.8881509304046631\n",
            "Step 14000: loss = 0.8881320357322693\n",
            "Step 15000: loss = 0.8881598711013794\n",
            "Step 16000: loss = 0.8881928324699402\n",
            "Step 17000: loss = 0.8881887197494507\n",
            "Step 18000: loss = 0.8881677389144897\n",
            "Step 19000: loss = 0.8881662487983704\n",
            "Parameter 0: score = 0.1527235060930252\n",
            "Parameter 1: score = 0.007789388298988342\n"
          ]
        }
      ]
    },
    {
      "cell_type": "markdown",
      "source": [
        "Lets try on a real dataset"
      ],
      "metadata": {
        "id": "21x8xkZVOXUL"
      }
    },
    {
      "cell_type": "code",
      "source": [
        "import torch\n",
        "import torch.nn as nn\n",
        "import torch.optim as optim\n",
        "from torchvision import datasets, transforms\n",
        "from torch.utils.data import random_split,DataLoader\n",
        "# Simple MLP for MNIST\n",
        "class SimpleMLP(nn.Module):\n",
        "    def __init__(self):\n",
        "        super(SimpleMLP, self).__init__()\n",
        "        self.fc1 = nn.Linear(28*28, 128)\n",
        "        self.fc2 = nn.Linear(128, 10)\n",
        "    def forward(self, x):\n",
        "        x = x.view(x.size(0), -1)\n",
        "        x = torch.relu(self.fc1(x))\n",
        "        x = self.fc2(x)\n",
        "        return x\n",
        "\n",
        "# MNIST dataset and dataloader\n",
        "transform = transforms.ToTensor()\n",
        "train_dataset = datasets.MNIST(root='./data', train=True, download=True, transform=transform)\n",
        "mnist_test  = datasets.MNIST(root='./data', train=False, download=True, transform=transform)\n",
        "\n",
        "# Split the training set into training and validation sets (e.g., 80/20 split)\n",
        "num_val = len(mnist_test)\n",
        "num_train = len(train_dataset) - num_val\n",
        "mnist_train, val_set = random_split(train_dataset, [num_train, num_val])\n",
        "train_loader = DataLoader(train_dataset,batch_size=64,shuffle=True)\n",
        "val_loader   = DataLoader(val_set, batch_size=64, shuffle=True)\n",
        "val_loader_no_contour  = DataLoader(mnist_test, batch_size=64, shuffle=True)\n",
        "\n",
        "device = torch.device(\"cuda\" if torch.cuda.is_available() else \"cpu\")\n",
        "print(device)\n",
        "model = SimpleMLP().to(device)\n",
        "criterion = nn.CrossEntropyLoss()\n"
      ],
      "metadata": {
        "colab": {
          "base_uri": "https://localhost:8080/"
        },
        "id": "hN-3hnhSMLA0",
        "outputId": "a0dc2c3e-9ce7-4ffa-e3d2-0aba74ac7fff"
      },
      "execution_count": 3,
      "outputs": [
        {
          "output_type": "stream",
          "name": "stdout",
          "text": [
            "Downloading http://yann.lecun.com/exdb/mnist/train-images-idx3-ubyte.gz\n",
            "Failed to download (trying next):\n",
            "HTTP Error 404: Not Found\n",
            "\n",
            "Downloading https://ossci-datasets.s3.amazonaws.com/mnist/train-images-idx3-ubyte.gz\n",
            "Downloading https://ossci-datasets.s3.amazonaws.com/mnist/train-images-idx3-ubyte.gz to ./data/MNIST/raw/train-images-idx3-ubyte.gz\n"
          ]
        },
        {
          "output_type": "stream",
          "name": "stderr",
          "text": [
            "100%|██████████| 9.91M/9.91M [00:11<00:00, 898kB/s] \n"
          ]
        },
        {
          "output_type": "stream",
          "name": "stdout",
          "text": [
            "Extracting ./data/MNIST/raw/train-images-idx3-ubyte.gz to ./data/MNIST/raw\n",
            "\n",
            "Downloading http://yann.lecun.com/exdb/mnist/train-labels-idx1-ubyte.gz\n",
            "Failed to download (trying next):\n",
            "HTTP Error 404: Not Found\n",
            "\n",
            "Downloading https://ossci-datasets.s3.amazonaws.com/mnist/train-labels-idx1-ubyte.gz\n",
            "Downloading https://ossci-datasets.s3.amazonaws.com/mnist/train-labels-idx1-ubyte.gz to ./data/MNIST/raw/train-labels-idx1-ubyte.gz\n"
          ]
        },
        {
          "output_type": "stream",
          "name": "stderr",
          "text": [
            "100%|██████████| 28.9k/28.9k [00:00<00:00, 134kB/s]\n"
          ]
        },
        {
          "output_type": "stream",
          "name": "stdout",
          "text": [
            "Extracting ./data/MNIST/raw/train-labels-idx1-ubyte.gz to ./data/MNIST/raw\n",
            "\n",
            "Downloading http://yann.lecun.com/exdb/mnist/t10k-images-idx3-ubyte.gz\n",
            "Failed to download (trying next):\n",
            "HTTP Error 404: Not Found\n",
            "\n",
            "Downloading https://ossci-datasets.s3.amazonaws.com/mnist/t10k-images-idx3-ubyte.gz\n",
            "Downloading https://ossci-datasets.s3.amazonaws.com/mnist/t10k-images-idx3-ubyte.gz to ./data/MNIST/raw/t10k-images-idx3-ubyte.gz\n"
          ]
        },
        {
          "output_type": "stream",
          "name": "stderr",
          "text": [
            "100%|██████████| 1.65M/1.65M [00:06<00:00, 242kB/s]\n"
          ]
        },
        {
          "output_type": "stream",
          "name": "stdout",
          "text": [
            "Extracting ./data/MNIST/raw/t10k-images-idx3-ubyte.gz to ./data/MNIST/raw\n",
            "\n",
            "Downloading http://yann.lecun.com/exdb/mnist/t10k-labels-idx1-ubyte.gz\n",
            "Failed to download (trying next):\n",
            "HTTP Error 404: Not Found\n",
            "\n",
            "Downloading https://ossci-datasets.s3.amazonaws.com/mnist/t10k-labels-idx1-ubyte.gz\n",
            "Downloading https://ossci-datasets.s3.amazonaws.com/mnist/t10k-labels-idx1-ubyte.gz to ./data/MNIST/raw/t10k-labels-idx1-ubyte.gz\n"
          ]
        },
        {
          "output_type": "stream",
          "name": "stderr",
          "text": [
            "100%|██████████| 4.54k/4.54k [00:00<00:00, 7.42MB/s]\n"
          ]
        },
        {
          "output_type": "stream",
          "name": "stdout",
          "text": [
            "Extracting ./data/MNIST/raw/t10k-labels-idx1-ubyte.gz to ./data/MNIST/raw\n",
            "\n",
            "cuda\n"
          ]
        }
      ]
    },
    {
      "cell_type": "code",
      "source": [
        "optimizer_score = optim.SGD(model.parameters(), lr=0.01)\n",
        "num_epochs = 20\n",
        "for epoch in range(num_epochs):\n",
        "    model.train()\n",
        "    running_loss = 0.0\n",
        "    for data, target in train_loader:\n",
        "        data, target = data.to(device), target.to(device)\n",
        "        optimizer_score.zero_grad()\n",
        "        output = model(data)\n",
        "        loss = criterion(output, target)\n",
        "        loss.backward()\n",
        "        optimizer_score.step()\n",
        "        running_loss += loss.item() * data.size(0)\n",
        "    print(f\"Epoch {epoch}: training loss = {running_loss / len(train_dataset)}\")\n",
        "\n",
        "# Save the optimized parameters\n",
        "optimized_params = [p.detach().clone() for p in model.parameters()]\n",
        "torch.save(model, 'only_opt_no_contour.pth')\n",
        "model.eval()\n",
        "running_loss = 0.0\n",
        "for data, target in train_loader:\n",
        "    data, target = data.to(device), target.to(device)\n",
        "    with torch.no_grad():\n",
        "      output = model(data)\n",
        "    loss = criterion(output, target)\n",
        "    running_loss += loss.item() * data.size(0)\n",
        "print(f\"Final training loss = {running_loss / len(train_dataset)}\")\n"
      ],
      "metadata": {
        "colab": {
          "base_uri": "https://localhost:8080/"
        },
        "id": "hrDD8-IphWzL",
        "outputId": "8bb23002-e47b-44df-f5ad-f43a9eac457a"
      },
      "execution_count": 4,
      "outputs": [
        {
          "output_type": "stream",
          "name": "stdout",
          "text": [
            "Epoch 0: training loss = 1.2476548559029896\n",
            "Epoch 1: training loss = 0.49958251489003497\n",
            "Epoch 2: training loss = 0.39451914879481\n",
            "Epoch 3: training loss = 0.3528783009211222\n",
            "Epoch 4: training loss = 0.32766643747488655\n",
            "Epoch 5: training loss = 0.3090274195273717\n",
            "Epoch 6: training loss = 0.2938690779685974\n",
            "Epoch 7: training loss = 0.2804592679818471\n",
            "Epoch 8: training loss = 0.26876455256938936\n",
            "Epoch 9: training loss = 0.2577093495607376\n",
            "Epoch 10: training loss = 0.24751803018252055\n",
            "Epoch 11: training loss = 0.23812339059114457\n",
            "Epoch 12: training loss = 0.2295622441093127\n",
            "Epoch 13: training loss = 0.2215165986975034\n",
            "Epoch 14: training loss = 0.2140719194014867\n",
            "Epoch 15: training loss = 0.20715455749829612\n",
            "Epoch 16: training loss = 0.20052204308509827\n",
            "Epoch 17: training loss = 0.19454826732873917\n",
            "Epoch 18: training loss = 0.18878573688666025\n",
            "Epoch 19: training loss = 0.18333962559103967\n",
            "Final training loss = 0.17940671562751134\n"
          ]
        }
      ]
    },
    {
      "cell_type": "code",
      "source": [
        "model = torch.load('only_opt_no_contour.pth')\n",
        "# Set contour-walking hyperparameters:\n",
        "L = 0.01\n",
        "eta = 1e-5  # step size for contour walking\n",
        "T = int(L / eta)\n",
        "\n",
        "optimizer_contour = ContourWalkingOptimizer(model.parameters(), lr=eta)\n",
        "\n",
        "# Get one batch from the training loader:\n",
        "\n",
        "t = 0\n",
        "model.train()\n",
        "running_loss = 0\n",
        "while t < T:\n",
        "  for data, target in train_loader:\n",
        "      if t < T:\n",
        "        data, target = data.to(device), target.to(device)\n",
        "        optimizer_contour.zero_grad()\n",
        "        output = model(data)\n",
        "        loss = criterion(output, target)\n",
        "        loss.backward()\n",
        "        optimizer_contour.step()\n",
        "        running_loss += loss.item()\n",
        "        t+=1\n",
        "print(f\"Contour Step {t}: loss = {running_loss/ T}\")\n"
      ],
      "metadata": {
        "colab": {
          "base_uri": "https://localhost:8080/"
        },
        "id": "6YzkR-c6hUM1",
        "outputId": "8f5860ed-ef60-4191-8d28-b223dcd51fbc"
      },
      "execution_count": 5,
      "outputs": [
        {
          "output_type": "stream",
          "name": "stderr",
          "text": [
            "<ipython-input-5-13d5d763cce2>:1: FutureWarning: You are using `torch.load` with `weights_only=False` (the current default value), which uses the default pickle module implicitly. It is possible to construct malicious pickle data which will execute arbitrary code during unpickling (See https://github.com/pytorch/pytorch/blob/main/SECURITY.md#untrusted-models for more details). In a future release, the default value for `weights_only` will be flipped to `True`. This limits the functions that could be executed during unpickling. Arbitrary objects will no longer be allowed to be loaded via this mode unless they are explicitly allowlisted by the user via `torch.serialization.add_safe_globals`. We recommend you start setting `weights_only=True` for any use case where you don't have full control of the loaded file. Please open an issue on GitHub for any issues related to this experimental feature.\n",
            "  model = torch.load('only_opt_no_contour.pth')\n"
          ]
        },
        {
          "output_type": "stream",
          "name": "stdout",
          "text": [
            "Contour Step 999: loss = 0.17870589348303903\n"
          ]
        }
      ]
    },
    {
      "cell_type": "code",
      "source": [
        "for i, (p_orig, p_contour) in enumerate(zip(optimized_params, model.parameters())):\n",
        "    diff_norm = torch.norm(p_orig - p_contour)\n",
        "    print(f\"Parameter {i}: Norm difference = {diff_norm.item()}\")\n"
      ],
      "metadata": {
        "colab": {
          "base_uri": "https://localhost:8080/"
        },
        "id": "fnRHQU13htuB",
        "outputId": "31f6f8be-f4cc-4e0a-dc50-22161b4fbef3"
      },
      "execution_count": 6,
      "outputs": [
        {
          "output_type": "stream",
          "name": "stdout",
          "text": [
            "Parameter 0: Norm difference = 0.009988917037844658\n",
            "Parameter 1: Norm difference = 0.009783073328435421\n",
            "Parameter 2: Norm difference = 0.009955196641385555\n",
            "Parameter 3: Norm difference = 0.009936198592185974\n"
          ]
        }
      ]
    },
    {
      "cell_type": "markdown",
      "source": [
        "Lets check if it is o.k to walk on the contour of the validation set"
      ],
      "metadata": {
        "id": "xBSv1Fm5OuTk"
      }
    },
    {
      "cell_type": "code",
      "source": [
        "model = torch.load('only_opt_no_contour.pth')"
      ],
      "metadata": {
        "colab": {
          "base_uri": "https://localhost:8080/"
        },
        "id": "GFEwTL-QO5fA",
        "outputId": "7726d774-739f-4a08-f3f5-d5934b853420"
      },
      "execution_count": 7,
      "outputs": [
        {
          "output_type": "stream",
          "name": "stderr",
          "text": [
            "<ipython-input-7-35ea222ebc2f>:1: FutureWarning: You are using `torch.load` with `weights_only=False` (the current default value), which uses the default pickle module implicitly. It is possible to construct malicious pickle data which will execute arbitrary code during unpickling (See https://github.com/pytorch/pytorch/blob/main/SECURITY.md#untrusted-models for more details). In a future release, the default value for `weights_only` will be flipped to `True`. This limits the functions that could be executed during unpickling. Arbitrary objects will no longer be allowed to be loaded via this mode unless they are explicitly allowlisted by the user via `torch.serialization.add_safe_globals`. We recommend you start setting `weights_only=True` for any use case where you don't have full control of the loaded file. Please open an issue on GitHub for any issues related to this experimental feature.\n",
            "  model = torch.load('only_opt_no_contour.pth')\n"
          ]
        }
      ]
    },
    {
      "cell_type": "code",
      "source": [
        "from torch.utils.data import random_split,DataLoader"
      ],
      "metadata": {
        "id": "ChsmY98IjIHu"
      },
      "execution_count": 8,
      "outputs": []
    },
    {
      "cell_type": "code",
      "source": [
        "\n",
        "# Set contour-walking hyperparameters:\n",
        "L = 0.1\n",
        "eta = 1e-5  # step size for contour walking\n",
        "T = int(L / eta)\n",
        "\n",
        "optimizer_contour = ContourWalkingOptimizer(model.parameters(), lr=eta)\n",
        "t = 0\n",
        "#### The main difference here is that we walk on the contour relative to validation and not train #####\n",
        "T = int(1 + T / len(val_loader)) * len(val_loader)\n",
        "num_exp = 10\n",
        "valdation_contour = list()\n",
        "validation_no_contour = list()\n",
        "loader_for_contour = val_loader\n",
        "loader_for_no_contour = val_loader_no_contour\n",
        "for ind in range(num_exp):\n",
        "\n",
        "  running_loss = 0\n",
        "  model = torch.load('only_opt_no_contour.pth')\n",
        "  while t < T:\n",
        "    model.train()\n",
        "    for data, target in loader_for_contour:\n",
        "      if t < T:\n",
        "          data, target = data.to(device), target.to(device)\n",
        "          optimizer_contour.zero_grad()\n",
        "          output = model(data)\n",
        "          loss = criterion(output, target)\n",
        "          loss.backward()\n",
        "          optimizer_contour.step()\n",
        "          running_loss += loss.item()\n",
        "          t +=1\n",
        "  print(f\"Contour Step {t}: loss = {running_loss / T}\")\n",
        "  model.eval()\n",
        "  running_loss = 0\n",
        "  for data, target in loader_for_contour:\n",
        "        data, target = data.to(device), target.to(device)\n",
        "        with torch.no_grad():\n",
        "          output = model(data)\n",
        "        loss = criterion(output, target)\n",
        "        running_loss += loss.item()\n",
        "  print(f\"Validation loss = {running_loss/ len(loader_for_contour)}\")\n",
        "  valdation_contour.append(running_loss/ len(loader_for_contour))\n",
        "  model.eval()\n",
        "  running_loss = 0\n",
        "  for data, target in loader_for_no_contour:\n",
        "        data, target = data.to(device), target.to(device)\n",
        "        with torch.no_grad():\n",
        "          output = model(data)\n",
        "        loss = criterion(output, target)\n",
        "        running_loss += loss.item()\n",
        "  print(f\"Validation loss no contour = {running_loss/ len(loader_for_no_contour)}\")\n",
        "  validation_no_contour.append(running_loss/ len(loader_for_no_contour))\n",
        "  if loader_for_contour == val_loader:\n",
        "    loader_for_contour = val_loader_no_contour\n",
        "    loader_for_no_contour = val_loader\n",
        "  else:\n",
        "    loader_for_contour = val_loader\n",
        "    loader_for_no_contour = val_loader_no_contour\n"
      ],
      "metadata": {
        "colab": {
          "base_uri": "https://localhost:8080/"
        },
        "id": "crwtrUUsjfvO",
        "outputId": "e78fcc2a-4e49-463c-dd32-ff318d0bb694"
      },
      "execution_count": 14,
      "outputs": [
        {
          "output_type": "stream",
          "name": "stderr",
          "text": [
            "<ipython-input-14-28334954e772>:18: FutureWarning: You are using `torch.load` with `weights_only=False` (the current default value), which uses the default pickle module implicitly. It is possible to construct malicious pickle data which will execute arbitrary code during unpickling (See https://github.com/pytorch/pytorch/blob/main/SECURITY.md#untrusted-models for more details). In a future release, the default value for `weights_only` will be flipped to `True`. This limits the functions that could be executed during unpickling. Arbitrary objects will no longer be allowed to be loaded via this mode unless they are explicitly allowlisted by the user via `torch.serialization.add_safe_globals`. We recommend you start setting `weights_only=True` for any use case where you don't have full control of the loaded file. Please open an issue on GitHub for any issues related to this experimental feature.\n",
            "  model = torch.load('only_opt_no_contour.pth')\n"
          ]
        },
        {
          "output_type": "stream",
          "name": "stdout",
          "text": [
            "Contour Step 10048: loss = 0.17940636844412056\n",
            "Validation loss = 0.17905799375408016\n",
            "Validation loss no contour = 0.1803577360548791\n",
            "Contour Step 10048: loss = 0.0\n",
            "Validation loss = 0.17896598136159264\n",
            "Validation loss no contour = 0.1786386588600221\n",
            "Contour Step 10048: loss = 0.0\n",
            "Validation loss = 0.1796294016063593\n",
            "Validation loss no contour = 0.17953905681515955\n",
            "Contour Step 10048: loss = 0.0\n",
            "Validation loss = 0.17789380366255522\n",
            "Validation loss no contour = 0.18016036993758694\n",
            "Contour Step 10048: loss = 0.0\n",
            "Validation loss = 0.17941977688746089\n",
            "Validation loss no contour = 0.1784275173666371\n",
            "Contour Step 10048: loss = 0.0\n",
            "Validation loss = 0.17843117835415398\n",
            "Validation loss no contour = 0.1789207886311279\n",
            "Contour Step 10048: loss = 0.0\n",
            "Validation loss = 0.17863997748228394\n",
            "Validation loss no contour = 0.17800669811049086\n",
            "Contour Step 10048: loss = 0.0\n",
            "Validation loss = 0.17773591760237506\n",
            "Validation loss no contour = 0.17924970333838158\n",
            "Contour Step 10048: loss = 0.0\n",
            "Validation loss = 0.1794548291167256\n",
            "Validation loss no contour = 0.17793731090084763\n",
            "Contour Step 10048: loss = 0.0\n",
            "Validation loss = 0.17800946592999872\n",
            "Validation loss no contour = 0.17880897266659768\n"
          ]
        }
      ]
    },
    {
      "cell_type": "code",
      "source": [
        "from scipy.stats import ttest_rel\n",
        "\n",
        "# Suppose you collected paired samples:\n",
        "A_v_before = valdation_contour  # validation accuracies before contour walk\n",
        "A_v_after = validation_no_contour   # validation accuracies after contour walk\n",
        "\n",
        "t_stat, p_value = ttest_rel(A_v_before, A_v_after)\n",
        "\n",
        "print(f\"Paired t-test result: t-stat={t_stat}, p-value={p_value}\")\n",
        "if p_value > 0.05:\n",
        "    print(\"Fail to reject H0: no significant bias from contour walk.\")\n",
        "else:\n",
        "    print(\"Reject H0: significant bias detected.\")\n"
      ],
      "metadata": {
        "colab": {
          "base_uri": "https://localhost:8080/"
        },
        "id": "m0TG6PTVnfvc",
        "outputId": "2002d320-df4c-42b0-d954-fb32c2f1a735"
      },
      "execution_count": 15,
      "outputs": [
        {
          "output_type": "stream",
          "name": "stdout",
          "text": [
            "Paired t-test result: t-stat=-0.7386165766956186, p-value=0.4789577488087644\n",
            "Fail to reject H0: no significant bias from contour walk.\n"
          ]
        }
      ]
    },
    {
      "cell_type": "code",
      "source": [],
      "metadata": {
        "id": "8sRle3Jb7806"
      },
      "execution_count": null,
      "outputs": []
    }
  ]
}